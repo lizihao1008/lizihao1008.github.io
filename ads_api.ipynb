{
 "cells": [
  {
   "cell_type": "code",
   "execution_count": 196,
   "metadata": {},
   "outputs": [],
   "source": [
    "# import the requests package and set your token in a variable for later use\n",
    "import requests\n",
    "import json # the json package will be used for passing the POST payload - see the section below on sending a request\n",
    "from urllib.parse import urlencode, quote_plus\n",
    "import numpy as np\n",
    "from datetime import datetime\n",
    "nowTime = datetime.now().strftime('%m/%d/%Y')"
   ]
  },
  {
   "cell_type": "code",
   "execution_count": 2,
   "metadata": {},
   "outputs": [],
   "source": [
    "token='lMejssLpFCj1GqoQfnEjE0HIRBnzXetHHCSLwbdY'"
   ]
  },
  {
   "cell_type": "code",
   "execution_count": 187,
   "metadata": {},
   "outputs": [],
   "source": [
    "encoded_query = urlencode({\"q\": \"orcid_other:0000-0001-5951-459X\",\n",
    "                        #    \"orcid_other\":\"0000-0001-5951-459X\",\n",
    "                           \"fl\": \"title, bibcode, author\",\n",
    "                           \"rows\": 100\n",
    "                          })\n",
    "results = requests.get(\"https://api.adsabs.harvard.edu/v1/search/query?{}\".format(encoded_query), \\\n",
    "                       headers={'Authorization': 'Bearer ' + token})\n",
    "\n",
    "# format the response in a nicely readable format\n",
    "results = results.json()"
   ]
  },
  {
   "cell_type": "code",
   "execution_count": 189,
   "metadata": {},
   "outputs": [],
   "source": [
    "first_author = sum([1 if results['response']['docs'][i]['author'][0] == 'Li, Zihao' else 0 for i in range(len(results['response']['docs']))])\n",
    "contributing = len(results['response']['docs']) - first_author"
   ]
  },
  {
   "cell_type": "code",
   "execution_count": 184,
   "metadata": {},
   "outputs": [],
   "source": [
    "docs = results['response']['docs']\n",
    "bibcodes = [docs[i]['bibcode'] for i in range(len(docs))]"
   ]
  },
  {
   "cell_type": "code",
   "execution_count": 154,
   "metadata": {},
   "outputs": [],
   "source": [
    "payload = {\"bibcodes\": bibcodes,\n",
    "          \"types\": [\"histograms\"],\n",
    "          \"histograms\": [\"citations\"]}\n",
    "results = requests.post(\"https://api.adsabs.harvard.edu/v1/metrics\", \\\n",
    "                       headers={'Authorization': 'Bearer ' + token, \n",
    "                                \"Content-type\": \"application/json\"}, \\\n",
    "                       data=json.dumps(payload))\n",
    "results = results.json()\n"
   ]
  },
  {
   "cell_type": "code",
   "execution_count": 151,
   "metadata": {},
   "outputs": [],
   "source": [
    "class NpEncoder(json.JSONEncoder):\n",
    "    def default(self, obj):\n",
    "        if isinstance(obj, np.integer):\n",
    "            return int(obj)\n",
    "        if isinstance(obj, np.floating):\n",
    "            return float(obj)\n",
    "        if isinstance(obj, np.ndarray):\n",
    "            return obj.tolist()\n",
    "        return json.JSONEncoder.default(self, obj)"
   ]
  },
  {
   "cell_type": "code",
   "execution_count": 145,
   "metadata": {},
   "outputs": [],
   "source": [
    "refereed1 = results['histograms']['citations']['refereed to nonrefereed']\n",
    "refereed2 = results['histograms']['citations']['refereed to refereed']\n",
    "years = list(refereed1.keys())\n",
    "nonrefereed1 = results['histograms']['citations']['nonrefereed to nonrefereed']\n",
    "nonrefereed2 = results['histograms']['citations']['nonrefereed to refereed']\n",
    "\n",
    "# refereed1 = np.array([refereed1[i] for i in refereed1])\n",
    "# refereed2 = np.array([refereed2[i] for i in refereed2])\n",
    "refereed1 = np.array(list(refereed1.values()))\n",
    "refereed2 = np.array(list(refereed2.values()))\n",
    "refereed = refereed1+refereed2\n",
    "\n",
    "nonrefereed1 = np.array(list(nonrefereed1.values()))\n",
    "nonrefereed2 = np.array(list(nonrefereed2.values()))\n",
    "nonrefereed = nonrefereed1+nonrefereed2\n",
    "\n",
    "results['histograms']['citations']['refereed'] = refereed\n",
    "results['histograms']['citations']['nonrefereed'] = nonrefereed\n",
    "results['histograms']['citations']['years'] = years\n",
    "results['histograms']['citations']['first_author'] = first_author\n",
    "results['histograms']['citations']['contributing'] = contributing"
   ]
  },
  {
   "cell_type": "code",
   "execution_count": 152,
   "metadata": {},
   "outputs": [],
   "source": [
    "json_object = json.dumps(results['histograms']['citations'], indent=4,cls=NpEncoder)\n",
    "# Writing to sample.json\n",
    "with open(\"citations.json\", \"w\") as outfile:\n",
    "    outfile.write(json_object)"
   ]
  },
  {
   "cell_type": "code",
   "execution_count": 84,
   "metadata": {},
   "outputs": [],
   "source": [
    "with open('citations.json') as json_file:\n",
    "    results = json.load(json_file)"
   ]
  }
 ],
 "metadata": {
  "kernelspec": {
   "display_name": "py37",
   "language": "python",
   "name": "py37"
  },
  "language_info": {
   "codemirror_mode": {
    "name": "ipython",
    "version": 3
   },
   "file_extension": ".py",
   "mimetype": "text/x-python",
   "name": "python",
   "nbconvert_exporter": "python",
   "pygments_lexer": "ipython3",
   "version": "3.7.11"
  },
  "orig_nbformat": 4
 },
 "nbformat": 4,
 "nbformat_minor": 2
}
